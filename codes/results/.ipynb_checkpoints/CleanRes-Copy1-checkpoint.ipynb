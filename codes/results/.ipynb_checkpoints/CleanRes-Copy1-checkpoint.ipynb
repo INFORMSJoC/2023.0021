{
 "cells": [
  {
   "cell_type": "code",
   "execution_count": 1,
   "metadata": {},
   "outputs": [
    {
     "name": "stdout",
     "output_type": "stream",
     "text": [
      "opt 12960 12960\n",
      "PaToH-Q 12960 12960\n",
      "arbitrary_shift_sizes/no_node_weight_proportional/10_20_2_5_2_0.1_0 110\n",
      "arbitrary_shift_sizes/no_node_weight_proportional/10_20_2_5_2_0.1_1 113\n",
      "arbitrary_shift_sizes/no_node_weight_proportional/10_20_2_5_2_0.1_2 121\n",
      "arbitrary_shift_sizes/no_node_weight_proportional/10_20_2_5_2_0.1_3 134\n",
      "arbitrary_shift_sizes/no_node_weight_proportional/10_20_2_5_2_0.1_4 105\n",
      "arbitrary_shift_sizes/no_node_weight_proportional/10_20_2_5_2_0.1_5 117\n",
      "arbitrary_shift_sizes/no_node_weight_proportional/10_20_2_5_2_0.1_6 121\n",
      "arbitrary_shift_sizes/no_node_weight_proportional/10_20_2_5_2_0.1_7 124\n",
      "arbitrary_shift_sizes/no_node_weight_proportional/10_20_2_5_2_0.1_8 118\n",
      "arbitrary_shift_sizes/no_node_weight_proportional/10_20_2_5_2_0.1_9 112\n",
      "PaToH-D 12960 12960\n",
      "KaHyPar 12960 12960\n",
      "KaHyPar-E 12960 12960\n",
      "KaHyPar-E_block 12960 12960\n",
      "start: 12960\n",
      "infeasible count: 7\n",
      "12953\n",
      "couldnt solved: 13\n",
      "12940\n",
      "heuristic inf: 507\n",
      "single shift: 28\n"
     ]
    }
   ],
   "source": [
    "import os\n",
    "import math\n",
    "import pandas as pd\n",
    "import numpy as np\n",
    "from scipy.stats import gmean\n",
    "from result_utils import read_mip, read_patoh_d, read_patoh_q, read_kahypar, read_kahypar_e, read_kahypar_ebq, compare, get_res_df\n",
    "\n",
    "\n",
    "\n",
    "df, df2, dfs = get_res_df()\n",
    "\n",
    "categories = [\"A\", \"B\", \"C\", \"D\", \"E\", \"F\", \"G\", \"H\", \"I\", \"J\", \"K\", \"L\"]\n",
    "\n",
    "cat2model_name = {\n",
    "    'A' : '$\\\\langle const \\\\;|\\\\; const\\\\;|\\\\; const \\\\rangle$',\n",
    "    'B' : '$\\\\langle prop \\\\;|\\\\; const\\\\;|\\\\; const \\\\rangle$',\n",
    "    'C' : '$\\\\langle arb \\\\;|\\\\; const\\\\;|\\\\; const \\\\rangle$',\n",
    "    'D' : '$\\\\langle const \\\\;|\\\\; arb\\\\;|\\\\; const \\\\rangle$',\n",
    "    'E' : '$\\\\langle prop \\\\;|\\\\; arb\\\\;|\\\\; const \\\\rangle$',\n",
    "    'F' : '$\\\\langle arb \\\\;|\\\\; arb\\\\;|\\\\; const \\\\rangle$',    \n",
    "    'G' : '$\\\\langle const \\\\;|\\\\; const\\\\;|\\\\; arb \\\\rangle$',\n",
    "    'H' : '$\\\\langle prop \\\\;|\\\\; const\\\\;|\\\\; arb \\\\rangle$',\n",
    "    'I' : '$\\\\langle arb \\\\;|\\\\; const\\\\;|\\\\; arb \\\\rangle$',\n",
    "    'J' : '$\\\\langle const \\\\;|\\\\; arb\\\\;|\\\\; arb \\\\rangle$',\n",
    "    'K' : '$\\\\langle prop \\\\;|\\\\; arb\\\\;|\\\\; arb \\\\rangle$',\n",
    "    'L' : '$\\\\langle arb \\\\;|\\\\; arb\\\\;|\\\\; arb \\\\rangle$',\n",
    "}\n",
    "\n",
    "\n"
   ]
  },
  {
   "cell_type": "code",
   "execution_count": 27,
   "metadata": {},
   "outputs": [
    {
     "data": {
      "text/plain": [
       "(12405, 12405)"
      ]
     },
     "execution_count": 27,
     "metadata": {},
     "output_type": "execute_result"
    }
   ],
   "source": [
    "len(df2), 12960 - 7 - 13 -28 - 507"
   ]
  },
  {
   "cell_type": "code",
   "execution_count": 2,
   "metadata": {},
   "outputs": [],
   "source": [
    "algs = [\n",
    "    'opt',\n",
    " 'PaToH-Q',\n",
    " 'PaToH-D',\n",
    " 'KaHyPar',\n",
    " 'KaHyPar-E',\n",
    " 'KaHyPar-E_block']"
   ]
  },
  {
   "cell_type": "code",
   "execution_count": 3,
   "metadata": {},
   "outputs": [
    {
     "name": "stdout",
     "output_type": "stream",
     "text": [
      "opt 22 6621 590.3559854897219\n",
      "PaToH-Q 22 6726 604.0443369609029\n",
      "PaToH-D 22 6804 605.5957275292221\n",
      "KaHyPar 24 6950 609.6091092301491\n",
      "KaHyPar-E 22 6819 597.3214026602177\n",
      "KaHyPar-E_block 22 6712 595.2254735993552\n"
     ]
    }
   ],
   "source": [
    "for alg in algs:\n",
    "    print(alg, df2[alg].min(), df2[alg].max(), df2[alg].mean())"
   ]
  },
  {
   "cell_type": "code",
   "execution_count": 4,
   "metadata": {},
   "outputs": [
    {
     "name": "stdout",
     "output_type": "stream",
     "text": [
      "opt 12405\n",
      "PaToH-Q 5398\n",
      "PaToH-D 4162\n",
      "KaHyPar 3827\n",
      "KaHyPar-E 6830\n",
      "KaHyPar-E_block 7905\n"
     ]
    }
   ],
   "source": [
    "for alg in algs:\n",
    "    print(alg, df2[df2.opt == df2[alg]].shape[0])"
   ]
  },
  {
   "cell_type": "code",
   "execution_count": null,
   "metadata": {},
   "outputs": [],
   "source": [
    "len(categories)"
   ]
  },
  {
   "cell_type": "code",
   "execution_count": 19,
   "metadata": {},
   "outputs": [
    {
     "name": "stdout",
     "output_type": "stream",
     "text": [
      "\t\t\t\t$\\langle const \\;|\\; const\\;|\\; const \\rangle$ & 0& 1.29& 8.33 & 0& 1.04& 6.12 & 0& 2.15& 15.58 & 0& 0.52& 8.16& 0& 0.37& 4.08 \\\\\n",
      "\t\t\t\t$\\langle prop \\;|\\; const\\;|\\; const \\rangle$ & 0& 1.46& 8.76 & 0& 1.24& 9.69 & 0& 2.31& 17.92 & 0& 0.64& 6.88& 0& 0.49& 6.88 \\\\\n",
      "\t\t\t\t$\\langle arb \\;|\\; const\\;|\\; const \\rangle$ & 0& 1.47& 11.90 & 0& 1.21& 11.50 & 0& 2.16& 17.37 & 0& 0.58& 8.91& 0& 0.45& 6.47 \\\\\n",
      "\t\t\t\t$\\langle const \\;|\\; arb\\;|\\; const \\rangle$ & 46& 2.55& 13.68 & 66& 2.17& 14.05 & 9& 2.38& 17.31 & 8& 0.72& 10.53& 7& 0.52& 10.53 \\\\\n",
      "\t\t\t\t$\\langle prop \\;|\\; arb\\;|\\; const \\rangle$ & 60& 2.56& 18.31 & 75& 2.36& 16.42 & 16& 2.85& 13.78 & 12& 0.83& 7.57& 12& 0.56& 7.48 \\\\\n",
      "\t\t\t\t$\\langle arb \\;|\\; arb\\;|\\; const \\rangle$ & 57& 2.99& 16.61 & 70& 2.51& 21.31 & 16& 2.48& 16.72 & 15& 0.71& 8.68& 13& 0.50& 8.38 \\\\\n",
      "\t\t\t\t$\\langle const \\;|\\; const\\;|\\; arb \\rangle$ & 0& 1.62& 12.68 & 0& 1.25& 12.68 & 0& 3.19& 39.13 & 0& 0.84& 8.82& 0& 0.52& 6.52 \\\\\n",
      "\t\t\t\t$\\langle prop \\;|\\; const\\;|\\; arb \\rangle$ & 0& 1.45& 14.29 & 0& 1.12& 14.29 & 0& 5.25& 47.59 & 0& 0.81& 10.07& 0& 0.40& 10.07 \\\\\n",
      "\t\t\t\t$\\langle arb \\;|\\; const\\;|\\; arb \\rangle$ & 0& 1.82& 22.98 & 0& 1.37& 22.98 & 0& 3.29& 41.13 & 0& 0.88& 8.91& 0& 0.51& 6.03 \\\\\n",
      "\t\t\t\t$\\langle const \\;|\\; arb\\;|\\; arb \\rangle$ & 33& 3.22& 17.91 & 48& 2.74& 17.91 & 22& 3.36& 22.00 & 21& 1.62& 13.85& 16& 1.29& 9.80 \\\\\n",
      "\t\t\t\t$\\langle prop \\;|\\; arb\\;|\\; arb \\rangle$ & 30& 2.94& 22.09 & 58& 2.84& 18.62 & 36& 3.71& 22.75 & 29& 1.64& 16.68& 19& 1.21& 16.68 \\\\\n",
      "\t\t\t\t$\\langle arb \\;|\\; arb\\;|\\; arb \\rangle$ & 38& 3.42& 20.28 & 58& 2.97& 20.28 & 27& 3.56& 20.55 & 31& 1.66& 12.44& 29& 1.32& 12.44 \\\\\n",
      "\\midrule\n",
      "\t\t\t\tAll & 264& 2.20& 22.98 & 375& 1.87& 22.98 & 126& 3.05& 47.59 & 116& 0.94& 16.68& 96& 0.67& 16.68 \\\\\n"
     ]
    }
   ],
   "source": [
    "for cat in categories:\n",
    "    a = df[df.type == cat]\n",
    "    b = df2[df2.type == cat]\n",
    "    print(\"\\t\\t\\t\\t{} & {}& {:.2f}& {:.2f} & {}& {:.2f}& {:.2f} & {}& {:.2f}& {:.2f} & {}& {:.2f}& {:.2f}& {}& {:.2f}& {:.2f} \\\\\\\\\".format(cat2model_name[cat], \n",
    "                                            a[a['PaToH-D'] == -1].shape[0], 100*(gmean(b.test) - 1),100*(b.test.max()-1),\n",
    "                                            a[a['PaToH-Q'] == -1].shape[0], 100*(gmean(b.test2) - 1),100*(b.test2.max()-1),\n",
    "                                            a[a['KaHyPar'] == -1].shape[0], 100*(gmean(b.test3) - 1),100*(b.test3.max()-1),\n",
    "                                            a[a['KaHyPar-E'] == -1].shape[0], 100*(gmean(b.test4) - 1),100*(b.test4.max()-1),\n",
    "                                            a[a['KaHyPar-E_block'] == -1].shape[0], 100*(gmean(b.test5) - 1),100*(b.test5.max()-1)\n",
    "                                                                                                          \n",
    "         \n",
    "         ))\n",
    "\n",
    "print('\\\\midrule')\n",
    "#     print(cat, a[a['PaToH-D'] == -1].shape[0], b.test.mean(), b.test.max())\n",
    "    \n",
    "    \n",
    "print(\"\\t\\t\\t\\t{} & {}& {:.2f}& {:.2f} & {}& {:.2f}& {:.2f} & {}& {:.2f}& {:.2f} & {}& {:.2f}& {:.2f}& {}& {:.2f}& {:.2f} \\\\\\\\\".format(\"All\", \n",
    "                                           df[df['PaToH-D'] == -1].shape[0], 100*(gmean(df2.test) - 1),100*(df2.test.max()-1),\n",
    "                                            df[df['PaToH-Q'] == -1].shape[0], 100*(gmean(df2.test2) - 1),100*(df2.test2.max()-1),\n",
    "                                            df[df['KaHyPar'] == -1].shape[0], 100*(gmean(df2.test3) - 1),100*(df2.test3.max()-1),\n",
    "                                            df[df['KaHyPar-E'] == -1].shape[0], 100*(gmean(df2.test4) - 1),100*(df2.test4.max()-1),\n",
    "                                            df[df['KaHyPar-E_block'] == -1].shape[0], 100*(gmean(df2.test5) - 1),100*(df2.test5.max()-1)\n",
    "         \n",
    "         ))\n",
    "\n"
   ]
  },
  {
   "cell_type": "code",
   "execution_count": 23,
   "metadata": {},
   "outputs": [
    {
     "name": "stdout",
     "output_type": "stream",
     "text": [
      "$\\langle const \\;|\\; const\\;|\\; const \\rangle$  & 41.72& 1.52& 22.98 & 51.67& 1.21& 22.98 & 34.91& 3.04& 47.59 & 59.80& 0.71& 10.07& 69.67& 0.46& 10.07 \\\\\n",
      "$\\langle prop \\;|\\; const\\;|\\; const \\rangle$ & 24.71& 2.94& 22.09 & 34.70& 2.59& 21.31 & 26.46& 3.05& 22.75 & 49.93& 1.19& 16.68& 57.30& 0.90& 16.68 \\\\\n",
      "$\\langle arb \\;|\\; const\\;|\\; const \r",
      "angle$ & 32.84& 2.03& 18.31 & 41.68& 1.73& 21.31 & 32.45& 2.38& 17.92 & 59.94& 0.66& 10.53& 68.32& 0.48& 10.53 \\\\\n",
      "$\\langle const \\;|\\; arb\\;|\\; const \\rangle & 34.27& 2.38& 22.98 & 45.37& 2.01& 22.98 & 29.24& 3.72& 47.59 & 50.13& 1.22& 16.68& 59.09& 0.86& 16.68 \\\\\n",
      "no_test_cost & 36.81& 2.14& 17.91 & 46.09& 1.77& 17.91 & 34.77& 2.77& 39.13 & 60.17& 0.91& 13.85& 68.08& 0.67& 10.53 \\\\\n",
      "prop_test_cost & 33.72& 2.07& 22.09 & 43.70& 1.86& 18.62 & 27.86& 3.52& 47.59 & 52.47& 0.97& 16.68& 61.95& 0.65& 16.68 \\\\\n",
      "weight_test_cost & 30.10& 2.39& 22.98 & 40.74& 1.98& 22.98 & 29.86& 2.86& 41.13 & 52.47& 0.94& 12.44& 61.09& 0.68& 12.44 \\\\\n",
      "All & 33.55& 2.20& 22.98 & 43.51& 1.87& 22.98 & 30.85& 3.05& 47.59 & 55.06& 0.94& 16.68& 63.72& 0.67& 16.68 \\\\\n"
     ]
    }
   ],
   "source": [
    "# Table 2\n",
    "\n",
    "\n",
    "# cat2model_name = {\n",
    "#     'A' : '$\\\\langle const \\\\;|\\\\; const\\\\;|\\\\; const \\\\rangle$',\n",
    "#     'B' : '$\\\\langle prop \\\\;|\\\\; const\\\\;|\\\\; const \\\\rangle$',\n",
    "#     'C' : '$\\\\langle arb \\\\;|\\\\; const\\\\;|\\\\; const \\\\rangle$',\n",
    "#     'D' : '$\\\\langle const \\\\;|\\\\; arb\\\\;|\\\\; const \\\\rangle$',\n",
    "#     'E' : '$\\\\langle prop \\\\;|\\\\; arb\\\\;|\\\\; const \\\\rangle$',\n",
    "#     'F' : '$\\\\langle arb \\\\;|\\\\; arb\\\\;|\\\\; const \\\\rangle$',    \n",
    "#     'G' : '$\\\\langle const \\\\;|\\\\; const\\\\;|\\\\; arb \\\\rangle$',\n",
    "#     'H' : '$\\\\langle prop \\\\;|\\\\; const\\\\;|\\\\; arb \\\\rangle$',\n",
    "#     'I' : '$\\\\langle arb \\\\;|\\\\; const\\\\;|\\\\; arb \\\\rangle$',\n",
    "#     'J' : '$\\\\langle const \\\\;|\\\\; arb\\\\;|\\\\; arb \\\\rangle$',\n",
    "#     'K' : '$\\\\langle prop \\\\;|\\\\; arb\\\\;|\\\\; arb \\\\rangle$',\n",
    "#     'L' : '$\\\\langle arb \\\\;|\\\\; arb\\\\;|\\\\; arb \\\\rangle$',\n",
    "# }\n",
    "\n",
    "\n",
    "# models = {\n",
    "#     'no_node_weight' : set(['A', 'B', 'C', 'G', 'H', 'I']),\n",
    "#     'node_weight' : set(['D', 'E', 'F', 'J', 'K', 'L']),\n",
    "#     'uniform_shift' : set(['A', 'B', 'C', 'D', 'E', 'F']),\n",
    "#     'non_unif_shift' : set(['G', 'H', 'I', 'J', 'K', 'L']),\n",
    "#     'no_test_cost' : set(['A', 'D', 'G', 'J']),\n",
    "#     'prop_test_cost' : set(['B', 'E', 'H', 'K']),\n",
    "#     'weight_test_cost' : set(['C', 'F', 'I', 'L'])\n",
    "# }\n",
    "\n",
    "models = {\n",
    "    '$\\\\langle const \\;|\\; const\\;|\\; const \\\\rangle$ ' : set(['A', 'B', 'C', 'G', 'H', 'I']),\n",
    "    '$\\\\langle prop \\;|\\; const\\;|\\; const \\\\rangle$' : set(['D', 'E', 'F', 'J', 'K', 'L']),\n",
    "    '$\\\\langle arb \\;|\\; const\\;|\\; const \\rangle$' : set(['A', 'B', 'C', 'D', 'E', 'F']),\n",
    "    '$\\\\langle const \\;|\\; arb\\;|\\; const \\\\rangle' : set(['G', 'H', 'I', 'J', 'K', 'L']),\n",
    "    'no_test_cost' : set(['A', 'D', 'G', 'J']),\n",
    "    'prop_test_cost' : set(['B', 'E', 'H', 'K']),\n",
    "    'weight_test_cost' : set(['C', 'F', 'I', 'L'])\n",
    "}\n",
    "\n",
    "for m in models:\n",
    "    a = df[df.type.isin(models[m])]\n",
    "    b = df2[df2.type.isin(models[m])]\n",
    "    print(\"{} & {:.2f}& {:.2f}& {:.2f} & {:.2f}& {:.2f}& {:.2f} & {:.2f}& {:.2f}& {:.2f} & {:.2f}& {:.2f}& {:.2f}& {:.2f}& {:.2f}& {:.2f} \\\\\\\\\".format(m, \n",
    "                                            100 * b[b['PaToH-D'] == b.opt].shape[0] / b.shape[0], 100*(gmean(b.test) - 1),100*(b.test.max()-1),\n",
    "                                            100 * b[b['PaToH-Q'] == b.opt].shape[0]/ b.shape[0], 100*(gmean(b.test2) - 1),100*(b.test2.max()-1),\n",
    "                                            100 * b[b['KaHyPar'] == b.opt].shape[0]/ b.shape[0], 100*(gmean(b.test3) - 1),100*(b.test3.max()-1),\n",
    "                                            100 * b[b['KaHyPar-E'] == b.opt].shape[0]/ b.shape[0], 100*(gmean(b.test4) - 1),100*(b.test4.max()-1),\n",
    "                                            100 * b[b['KaHyPar-E_block'] == b.opt].shape[0]/ b.shape[0], 100*(gmean(b.test5) - 1),100*(b.test5.max()-1)\n",
    "                                                                                                          \n",
    "         \n",
    "         ))\n",
    "    \n",
    "print(\"{} & {:.2f}& {:.2f}& {:.2f} & {:.2f}& {:.2f}& {:.2f} & {:.2f}& {:.2f}& {:.2f} & {:.2f}& {:.2f}& {:.2f}& {:.2f}& {:.2f}& {:.2f} \\\\\\\\\".format(\"All\", \n",
    "                                            100 * df2[df2['PaToH-D'] == df2.opt].shape[0]/ df2.shape[0], 100*(gmean(df2.test) - 1),100*(df2.test.max()-1),\n",
    "                                            100 * df2[df2['PaToH-Q'] == df2.opt].shape[0]/ df2.shape[0], 100*(gmean(df2.test2) - 1),100*(df2.test2.max()-1),\n",
    "                                            100 * df2[df2['KaHyPar'] == df2.opt].shape[0]/ df2.shape[0], 100*(gmean(df2.test3) - 1),100*(df2.test3.max()-1),\n",
    "                                            100 * df2[df2['KaHyPar-E'] == df2.opt].shape[0]/ df2.shape[0], 100*(gmean(df2.test4) - 1),100*(df2.test4.max()-1),\n",
    "                                            100 * df2[df2['KaHyPar-E_block'] == df2.opt].shape[0]/ df2.shape[0], 100*(gmean(df2.test5) - 1),100*(df2.test5.max()-1)\n",
    "                                                                                                          \n",
    "         \n",
    "         ))\n",
    "    \n",
    "\n",
    "    "
   ]
  },
  {
   "cell_type": "code",
   "execution_count": 25,
   "metadata": {},
   "outputs": [
    {
     "name": "stdout",
     "output_type": "stream",
     "text": [
      "no_test_cost & 36.81& 2.14& 17.91 & 46.09& 1.77& 17.91 & 34.77& 2.77& 39.13 & 60.17& 0.91& 13.85& 68.08& 0.67& 10.53 \\\\\n",
      "prop_test_cost & 33.72& 2.07& 22.09 & 43.70& 1.86& 18.62 & 27.86& 3.52& 47.59 & 52.47& 0.97& 16.68& 61.95& 0.65& 16.68 \\\\\n",
      "weight_test_cost & 30.10& 2.39& 22.98 & 40.74& 1.98& 22.98 & 29.86& 2.86& 41.13 & 52.47& 0.94& 12.44& 61.09& 0.68& 12.44 \\\\\n",
      "no_node_weight & 41.72& 1.52& 22.98 & 51.67& 1.21& 22.98 & 34.91& 3.04& 47.59 & 59.80& 0.71& 10.07& 69.67& 0.46& 10.07 \\\\\n",
      "node_weight & 24.71& 2.94& 22.09 & 34.70& 2.59& 21.31 & 26.46& 3.05& 22.75 & 49.93& 1.19& 16.68& 57.30& 0.90& 16.68 \\\\\n",
      "uniform_shift & 32.84& 2.03& 18.31 & 41.68& 1.73& 21.31 & 32.45& 2.38& 17.92 & 59.94& 0.66& 10.53& 68.32& 0.48& 10.53 \\\\\n",
      "non_unif_shift & 34.27& 2.38& 22.98 & 45.37& 2.01& 22.98 & 29.24& 3.72& 47.59 & 50.13& 1.22& 16.68& 59.09& 0.86& 16.68 \\\\\n",
      "All & 33.55& 2.20& 22.98 & 43.51& 1.87& 22.98 & 30.85& 3.05& 47.59 & 55.06& 0.94& 16.68& 63.72& 0.67& 16.68 \\\\\n"
     ]
    }
   ],
   "source": [
    "# Table 2\n",
    "\n",
    "\n",
    "# cat2model_name = {\n",
    "#     'A' : '$\\\\langle const \\\\;|\\\\; const\\\\;|\\\\; const \\\\rangle$',\n",
    "#     'B' : '$\\\\langle prop \\\\;|\\\\; const\\\\;|\\\\; const \\\\rangle$',\n",
    "#     'C' : '$\\\\langle arb \\\\;|\\\\; const\\\\;|\\\\; const \\\\rangle$',\n",
    "#     'D' : '$\\\\langle const \\\\;|\\\\; arb\\\\;|\\\\; const \\\\rangle$',\n",
    "#     'E' : '$\\\\langle prop \\\\;|\\\\; arb\\\\;|\\\\; const \\\\rangle$',\n",
    "#     'F' : '$\\\\langle arb \\\\;|\\\\; arb\\\\;|\\\\; const \\\\rangle$',    \n",
    "#     'G' : '$\\\\langle const \\\\;|\\\\; const\\\\;|\\\\; arb \\\\rangle$',\n",
    "#     'H' : '$\\\\langle prop \\\\;|\\\\; const\\\\;|\\\\; arb \\\\rangle$',\n",
    "#     'I' : '$\\\\langle arb \\\\;|\\\\; const\\\\;|\\\\; arb \\\\rangle$',\n",
    "#     'J' : '$\\\\langle const \\\\;|\\\\; arb\\\\;|\\\\; arb \\\\rangle$',\n",
    "#     'K' : '$\\\\langle prop \\\\;|\\\\; arb\\\\;|\\\\; arb \\\\rangle$',\n",
    "#     'L' : '$\\\\langle arb \\\\;|\\\\; arb\\\\;|\\\\; arb \\\\rangle$',\n",
    "# }\n",
    "\n",
    "\n",
    "models = {\n",
    "    'no_test_cost' : set(['A', 'D', 'G', 'J']),\n",
    "    'prop_test_cost' : set(['B', 'E', 'H', 'K']),\n",
    "    'weight_test_cost' : set(['C', 'F', 'I', 'L']),\n",
    "    'no_node_weight' : set(['A', 'B', 'C', 'G', 'H', 'I']),\n",
    "    'node_weight' : set(['D', 'E', 'F', 'J', 'K', 'L']),\n",
    "    'uniform_shift' : set(['A', 'B', 'C', 'D', 'E', 'F']),\n",
    "    'non_unif_shift' : set(['G', 'H', 'I', 'J', 'K', 'L']),\n",
    "    \n",
    "}\n",
    "\n",
    "for m in models:\n",
    "    a = df[df.type.isin(models[m])]\n",
    "    b = df2[df2.type.isin(models[m])]\n",
    "    print(\"{} & {:.2f}& {:.2f}& {:.2f} & {:.2f}& {:.2f}& {:.2f} & {:.2f}& {:.2f}& {:.2f} & {:.2f}& {:.2f}& {:.2f}& {:.2f}& {:.2f}& {:.2f} \\\\\\\\\".format(m, \n",
    "                                            100 * b[b['PaToH-D'] == b.opt].shape[0] / b.shape[0], 100*(gmean(b.test) - 1),100*(b.test.max()-1),\n",
    "                                            100 * b[b['PaToH-Q'] == b.opt].shape[0]/ b.shape[0], 100*(gmean(b.test2) - 1),100*(b.test2.max()-1),\n",
    "                                            100 * b[b['KaHyPar'] == b.opt].shape[0]/ b.shape[0], 100*(gmean(b.test3) - 1),100*(b.test3.max()-1),\n",
    "                                            100 * b[b['KaHyPar-E'] == b.opt].shape[0]/ b.shape[0], 100*(gmean(b.test4) - 1),100*(b.test4.max()-1),\n",
    "                                            100 * b[b['KaHyPar-E_block'] == b.opt].shape[0]/ b.shape[0], 100*(gmean(b.test5) - 1),100*(b.test5.max()-1)\n",
    "                                                                                                          \n",
    "         \n",
    "         ))\n",
    "    \n",
    "print(\"{} & {:.2f}& {:.2f}& {:.2f} & {:.2f}& {:.2f}& {:.2f} & {:.2f}& {:.2f}& {:.2f} & {:.2f}& {:.2f}& {:.2f}& {:.2f}& {:.2f}& {:.2f} \\\\\\\\\".format(\"All\", \n",
    "                                            100 * df2[df2['PaToH-D'] == df2.opt].shape[0]/ df2.shape[0], 100*(gmean(df2.test) - 1),100*(df2.test.max()-1),\n",
    "                                            100 * df2[df2['PaToH-Q'] == df2.opt].shape[0]/ df2.shape[0], 100*(gmean(df2.test2) - 1),100*(df2.test2.max()-1),\n",
    "                                            100 * df2[df2['KaHyPar'] == df2.opt].shape[0]/ df2.shape[0], 100*(gmean(df2.test3) - 1),100*(df2.test3.max()-1),\n",
    "                                            100 * df2[df2['KaHyPar-E'] == df2.opt].shape[0]/ df2.shape[0], 100*(gmean(df2.test4) - 1),100*(df2.test4.max()-1),\n",
    "                                            100 * df2[df2['KaHyPar-E_block'] == df2.opt].shape[0]/ df2.shape[0], 100*(gmean(df2.test5) - 1),100*(df2.test5.max()-1)\n",
    "                                                                                                          \n",
    "         \n",
    "         ))\n",
    "    \n",
    "\n",
    "    "
   ]
  },
  {
   "cell_type": "code",
   "execution_count": null,
   "metadata": {},
   "outputs": [],
   "source": []
  },
  {
   "cell_type": "code",
   "execution_count": 37,
   "metadata": {},
   "outputs": [
    {
     "name": "stdout",
     "output_type": "stream",
     "text": [
      "1.0577812932568718\n",
      "1.053715252180422\n",
      "1.0769230769230769\n",
      "1.0297029702970297\n",
      "1.0232558139534884\n"
     ]
    }
   ],
   "source": [
    "print(np.quantile(df2[\"test\"].values, 0.9))\n",
    "print(np.quantile(df2[\"test2\"].values, 0.9))\n",
    "print(np.quantile(df2[\"test3\"].values, 0.9))\n",
    "print(np.quantile(df2[\"test4\"].values, 0.9))\n",
    "print(np.quantile(df2[\"test5\"].values, 0.9))"
   ]
  },
  {
   "cell_type": "code",
   "execution_count": 40,
   "metadata": {},
   "outputs": [
    {
     "name": "stdout",
     "output_type": "stream",
     "text": [
      "PaToH-D &  - & 12.70 & 39.36 & 10.15 & 6.37 \\\\\n",
      "PaToH-Q &  31.40 & - & 42.46 & 11.33 & 6.50 \\\\\n",
      "KaHyPar &  29.92 & 18.48 & - & 0.03 & 0.02 \\\\\n",
      "KaHyPar-E &  51.92 & 39.55 & 51.68 & - & 1.57 \\\\\n",
      "KaHyPar-E_block &  56.11 & 44.25 & 54.94 & 18.77 & - \\\\\n"
     ]
    }
   ],
   "source": [
    "heuristics = ['PaToH-D', 'PaToH-Q',  'KaHyPar', 'KaHyPar-E', 'KaHyPar-E_block']\n",
    "for idx, h1 in enumerate(heuristics):\n",
    "    res = f\"{h1} & \"\n",
    "    for idx2, h2 in enumerate(heuristics):\n",
    "        \n",
    "        if idx != idx2:\n",
    "            res += \" {:.2f} &\".format(100 * df2[df2[h1] < df2[h2]].shape[0] / df2.shape[0])    \n",
    "        else:\n",
    "            res += \" {} &\".format(\"-\")    \n",
    "#         print(h1,h2, df2[df2[h1] < df2[h2]].shape[0], df2[df2[h1] == df2[h2]].shape[0], df2[df2[h1] > df2[h2]].shape[0] )\n",
    "\n",
    "    res = res[:-2] + \" \\\\\\\\\"\n",
    "    print(res)"
   ]
  },
  {
   "cell_type": "code",
   "execution_count": null,
   "metadata": {},
   "outputs": [],
   "source": []
  },
  {
   "cell_type": "code",
   "execution_count": 29,
   "metadata": {},
   "outputs": [],
   "source": [
    "import matplotlib.pyplot as plt\n",
    "import matplotlib"
   ]
  },
  {
   "cell_type": "code",
   "execution_count": 31,
   "metadata": {},
   "outputs": [],
   "source": [
    "vals = [df2[\"test\"].values,df2[\"test2\"].values,df2[\"test3\"].values,df2[\"test4\"].values, df2['test5'].values]\n",
    "counts = [[],[],[],[],[]]\n",
    "bin_edges = []\n",
    "\n",
    "\n",
    "\n",
    "for idx,val in enumerate(vals):\n",
    "    for i in range(100, 115, 1):\n",
    "        if idx == 0:\n",
    "            bin_edges.append(i - 100)\n",
    "            \n",
    "#             print(i/200)\n",
    "        counts[idx].append(val[val <= (i/100)].shape[0] / val.shape[0])\n",
    "        \n",
    "for idx,val in enumerate(vals):\n",
    "    for i in range(115, 151, 5):\n",
    "        if idx == 0:\n",
    "            bin_edges.append(i- 100)\n",
    "#             print(i/100)\n",
    "            \n",
    "        counts[idx].append(val[val <= (i/100)].shape[0] / val.shape[0])\n",
    "    \n"
   ]
  },
  {
   "cell_type": "code",
   "execution_count": 33,
   "metadata": {},
   "outputs": [
    {
     "data": {
      "text/plain": [
       "'/home/orion/DataMitigationPlanning/journal_instances/repo/instances/arbitrary_shift_sizes/node_edge_weighted/results/kahypar_ebq'"
      ]
     },
     "execution_count": 33,
     "metadata": {},
     "output_type": "execute_result"
    }
   ],
   "source": [
    "%pwd"
   ]
  },
  {
   "cell_type": "code",
   "execution_count": 34,
   "metadata": {},
   "outputs": [
    {
     "data": {
      "image/png": "[encoded data removed]",
      "text/plain": [
       "<Figure size 432x288 with 1 Axes>"
      ]
     },
     "metadata": {
      "needs_background": "light"
     },
     "output_type": "display_data"
    }
   ],
   "source": [
    "fig, ax  = plt.subplots(nrows=1)\n",
    "plt.subplots_adjust(hspace=0.5, bottom=0.17)\n",
    "# ax.plot(range(len(bin_edges)), counts[0], \"r\", range(len(bin_edges)), counts[1], \"y\", range(len(bin_edges)), counts[2], \"b\", range(len(bin_edges)), counts[3], \"g\")\n",
    "ax.plot(range(len(bin_edges)), counts[4], \"r\", label=\"kKaHyPar-EBQ\")\n",
    "ax.plot(range(len(bin_edges)), counts[3], \"g\", label=\"kKaHyPar-E\")\n",
    "ax.plot(range(len(bin_edges)), counts[0], \"c\", label=\"PaToH-D\")\n",
    "ax.plot(range(len(bin_edges)), counts[1], \"y\", label=\"PaToH-Q\")\n",
    "ax.plot(range(len(bin_edges)), counts[2], \"b\", label=\"kKaHyPar\")\n",
    "\n",
    "\n",
    "ax.set_xticks(range(len(bin_edges)))\n",
    "ax.set_xticklabels(bin_edges, rotation=90, horizontalalignment=\"right\")\n",
    "plt.yticks([x/100 for x in range(25,101, 5)])\n",
    "# plt.xticks(bin_edges, [str(x) for x in bin_edges], rotation=90)\n",
    "# plt.tick_params(axis='x', which='major', labelsize=3)\n",
    "# plt.tight_layout()\n",
    "plt.grid()\n",
    "# plt.xscale(\"log\")\n",
    "# print(plt.xlabel())\n",
    "# plt.show()\n",
    "plt.legend(loc=\"lower right\")\n",
    "ax.set_xlabel(\"Quality relative to optimal solution\")\n",
    "ax.set_ylabel(\"Fraction of instances\")\n",
    "plt.savefig(\"/home/orion/DataMitigationPlanning/journal_instances/repo/perf_flot.png\", dpi=900)\n"
   ]
  },
  {
   "cell_type": "code",
   "execution_count": 53,
   "metadata": {},
   "outputs": [
    {
     "name": "stdout",
     "output_type": "stream",
     "text": [
      "constant_shift_sizes/node_edge_weighted/10_20_2_5_2_0.1_0 F\n"
     ]
    }
   ],
   "source": [
    "z = 1080 * 5\n",
    "print(df.instance.values[z], df.type.values[z])\n"
   ]
  },
  {
   "cell_type": "code",
   "execution_count": null,
   "metadata": {},
   "outputs": [],
   "source": []
  },
  {
   "cell_type": "code",
   "execution_count": 42,
   "metadata": {},
   "outputs": [
    {
     "data": {
      "text/plain": [
       "['A', 'B', 'C', 'D', 'E', 'F', 'G', 'H', 'I', 'J', 'K', 'L']"
      ]
     },
     "execution_count": 42,
     "metadata": {},
     "output_type": "execute_result"
    }
   ],
   "source": [
    "categories"
   ]
  },
  {
   "cell_type": "code",
   "execution_count": 6,
   "metadata": {},
   "outputs": [
    {
     "data": {
      "text/html": [
       "<div>\n",
       "<style scoped>\n",
       "    .dataframe tbody tr th:only-of-type {\n",
       "        vertical-align: middle;\n",
       "    }\n",
       "\n",
       "    .dataframe tbody tr th {\n",
       "        vertical-align: top;\n",
       "    }\n",
       "\n",
       "    .dataframe thead th {\n",
       "        text-align: right;\n",
       "    }\n",
       "</style>\n",
       "<table border=\"1\" class=\"dataframe\">\n",
       "  <thead>\n",
       "    <tr style=\"text-align: right;\">\n",
       "      <th></th>\n",
       "      <th>instance</th>\n",
       "      <th>opt</th>\n",
       "      <th>lb</th>\n",
       "      <th>opt_ET</th>\n",
       "      <th>type</th>\n",
       "      <th>n</th>\n",
       "      <th>m</th>\n",
       "      <th>k</th>\n",
       "      <th>e</th>\n",
       "      <th>i</th>\n",
       "      <th>...</th>\n",
       "      <th>KaHyPar-E</th>\n",
       "      <th>KaHyPar-E_ET</th>\n",
       "      <th>KaHyPar-E_block</th>\n",
       "      <th>KaHyPar-E_block_ET</th>\n",
       "      <th>total_edge_weight</th>\n",
       "      <th>test</th>\n",
       "      <th>test2</th>\n",
       "      <th>test3</th>\n",
       "      <th>test4</th>\n",
       "      <th>test5</th>\n",
       "    </tr>\n",
       "  </thead>\n",
       "  <tbody>\n",
       "  </tbody>\n",
       "</table>\n",
       "<p>0 rows × 26 columns</p>\n",
       "</div>"
      ],
      "text/plain": [
       "Empty DataFrame\n",
       "Columns: [instance, opt, lb, opt_ET, type, n, m, k, e, i, PaToH-Q, PaToH-Q_ET, PaToH-D, PaToH-D_ET, KaHyPar, KaHyPar_ET, KaHyPar-E, KaHyPar-E_ET, KaHyPar-E_block, KaHyPar-E_block_ET, total_edge_weight, test, test2, test3, test4, test5]\n",
       "Index: []\n",
       "\n",
       "[0 rows x 26 columns]"
      ]
     },
     "execution_count": 6,
     "metadata": {},
     "output_type": "execute_result"
    }
   ],
   "source": [
    "df2[df2.opt > df2['PaToH-D']]"
   ]
  },
  {
   "cell_type": "code",
   "execution_count": 41,
   "metadata": {},
   "outputs": [
    {
     "name": "stdout",
     "output_type": "stream",
     "text": [
      "$\\langle const \\;|\\; const\\;|\\; const \\rangle$ &  0.97& 6.00 &  11.06& 60.00 &  98.61& 529.00 &  25027.43& 2667573.00 \\\\\n",
      "$\\langle prop \\;|\\; const\\;|\\; const \\rangle$ &  1.00& 6.00 &  11.53& 65.00 &  100.75& 529.00 &  31403.13& 9262589.00 \\\\\n",
      "$\\langle arb \\;|\\; const\\;|\\; const \\rangle$ &  0.99& 6.00 &  11.01& 60.00 &  102.01& 541.00 &  18808.68& 2961430.00 \\\\\n",
      "$\\langle const \\;|\\; arb\\;|\\; const \\rangle$ &  3.12& 17.00 &  33.82& 180.00 &  268.75& 1302.00 &  11714.25& 1792407.00 \\\\\n",
      "$\\langle prop \\;|\\; arb\\;|\\; const \\rangle$ &  3.40& 19.00 &  39.21& 200.00 &  269.72& 1420.00 &  24730.87& 3819110.00 \\\\\n",
      "$\\langle arb \\;|\\; arb\\;|\\; const \\rangle$ &  3.20& 19.00 &  35.20& 181.00 &  264.69& 1270.00 &  13843.60& 1995377.00 \\\\\n",
      "$\\langle const \\;|\\; const\\;|\\; arb \\rangle$ &  1.15& 9.00 &  12.64& 108.00 &  121.35& 1042.00 &  41028.45& 11262781.00 \\\\\n",
      "$\\langle prop \\;|\\; const\\;|\\; arb \\rangle$ &  1.94& 13.00 &  21.62& 151.00 &  209.59& 1496.00 &  17269.05& 1522711.00 \\\\\n",
      "$\\langle arb \\;|\\; const\\;|\\; arb \\rangle$ &  1.19& 10.00 &  13.06& 105.00 &  122.81& 1055.00 &  21704.69& 2620246.00 \\\\\n",
      "$\\langle const \\;|\\; arb\\;|\\; arb \\rangle$ &  3.36& 22.00 &  35.24& 231.00 &  292.36& 1802.00 &  70486.40& 10482791.00 \\\\\n",
      "$\\langle prop \\;|\\; arb\\;|\\; arb \\rangle$ &  3.87& 35.00 &  44.90& 427.00 &  336.31& 3014.00 &  58591.48& 4965643.00 \\\\\n",
      "$\\langle arb \\;|\\; arb\\;|\\; arb \\rangle$ &  3.41& 22.00 &  37.54& 229.00 &  294.93& 1809.00 &  66765.13& 16052122.00 \\\\\n",
      "All &  2.26& 35.00 &  25.06& 427.00 &  203.38& 3014.00 &  33106.81& 16052122.00 \\\\\n"
     ]
    }
   ],
   "source": [
    "#Running time\n",
    "for cat in categories:\n",
    "    a = df[df.type == cat]\n",
    "    b = df2[df2.type == cat]\n",
    "    print(\"{} &  {:.2f}& {:.2f} &  {:.2f}& {:.2f} &  {:.2f}& {:.2f} &  {:.2f}& {:.2f} \\\\\\\\\".format(cat2model_name[cat],\n",
    "                                            b['PaToH-D_ET'].mean(), b['PaToH-D_ET'].max(),\n",
    "                                            b['PaToH-Q_ET'].mean(), b['PaToH-Q_ET'].max(),\n",
    "                                            b['KaHyPar_ET'].mean(), b['KaHyPar_ET'].max(),                                                                                                          \n",
    "                                            b['opt_ET'].mean(), b['opt_ET'].max(),\n",
    "         \n",
    "         ))\n",
    "    \n",
    "    \n",
    "print(\"{} &  {:.2f}& {:.2f} &  {:.2f}& {:.2f} &  {:.2f}& {:.2f} &  {:.2f}& {:.2f} \\\\\\\\\".format(\"All\", \n",
    "                                            df2['PaToH-D_ET'].mean(), df2['PaToH-D_ET'].max(),\n",
    "                                            df2['PaToH-Q_ET'].mean(), df2['PaToH-Q_ET'].max(),\n",
    "                                            df2['KaHyPar_ET'].mean(), df2['KaHyPar_ET'].max(),                                                                                                          \n",
    "                                            df2['opt_ET'].mean(), df2['opt_ET'].max(),\n",
    "         \n",
    "     ))\n",
    "\n",
    "    "
   ]
  },
  {
   "cell_type": "code",
   "execution_count": null,
   "metadata": {},
   "outputs": [],
   "source": []
  },
  {
   "cell_type": "code",
   "execution_count": null,
   "metadata": {},
   "outputs": [],
   "source": []
  }
 ],
 "metadata": {
  "kernelspec": {
   "display_name": "Python 3 (ipykernel)",
   "language": "python",
   "name": "python3"
  },
  "language_info": {
   "codemirror_mode": {
    "name": "ipython",
    "version": 3
   },
   "file_extension": ".py",
   "mimetype": "text/x-python",
   "name": "python",
   "nbconvert_exporter": "python",
   "pygments_lexer": "ipython3",
   "version": "3.7.6"
  }
 },
 "nbformat": 4,
 "nbformat_minor": 4
}
